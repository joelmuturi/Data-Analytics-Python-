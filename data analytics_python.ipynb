{
 "cells": [
  {
   "cell_type": "markdown",
   "metadata": {},
   "source": [
    "1. Python Program to Check if a String is a Palindrome Using a Stack\n",
    "A palindrome is a string that reads the same backward as forward. Using a stack data structure can help us efficiently solve this problem, as it allows us to reverse the string."
   ]
  },
  {
   "cell_type": "code",
   "execution_count": 1,
   "metadata": {},
   "outputs": [
    {
     "name": "stdout",
     "output_type": "stream",
     "text": [
      "True\n",
      "False\n"
     ]
    }
   ],
   "source": [
    "def is_palindrome(input_string):\n",
    "    stack = []\n",
    "    \n",
    "    # Push all characters of the string to the stack\n",
    "    for char in input_string:\n",
    "        stack.append(char)\n",
    "    \n",
    "    # Construct the reversed string using the stack\n",
    "    reversed_string = \"\"\n",
    "    while stack:\n",
    "        reversed_string += stack.pop()\n",
    "    \n",
    "    # Check if the reversed string is equal to the original string\n",
    "    return input_string == reversed_string\n",
    "\n",
    "# Test the function\n",
    "print(is_palindrome(\"radar\")) \n",
    "print(is_palindrome(\"hello\"))  \n"
   ]
  },
  {
   "cell_type": "markdown",
   "metadata": {},
   "source": [
    "2. List Comprehension in Python\n",
    "List comprehension provides a concise way to create lists in Python. It's a syntactic construct that allows for creating a list from an existing list or other iterable in a single, readable line of code."
   ]
  },
  {
   "cell_type": "code",
   "execution_count": 4,
   "metadata": {},
   "outputs": [
    {
     "name": "stdout",
     "output_type": "stream",
     "text": [
      "[1, 4, 9, 16, 25, 36, 49, 64, 81, 100]\n"
     ]
    }
   ],
   "source": [
    "#Simple List Comprehension\n",
    "# Creating a list of squares from 1 to 10\n",
    "squares = [x * x for x in range(1, 11)]\n",
    "print(squares)\n"
   ]
  },
  {
   "cell_type": "code",
   "execution_count": 6,
   "metadata": {},
   "outputs": [
    {
     "name": "stdout",
     "output_type": "stream",
     "text": [
      "[2, 4, 6, 8, 10]\n"
     ]
    }
   ],
   "source": [
    " #List Comprehension with Conditional Logic\n",
    "# Creating a list of even numbers from 1 to 10\n",
    "evens = [x for x in range(1, 11) if x % 2 == 0]\n",
    "print(evens)  \n"
   ]
  },
  {
   "cell_type": "code",
   "execution_count": 7,
   "metadata": {},
   "outputs": [
    {
     "name": "stdout",
     "output_type": "stream",
     "text": [
      "[1, 2, 3, 4, 5, 6, 7, 8, 9]\n"
     ]
    }
   ],
   "source": [
    "#Nested List Comprehension\n",
    "# Flattening a list of lists\n",
    "matrix = [[1, 2, 3], [4, 5, 6], [7, 8, 9]]\n",
    "flat_list = [num for row in matrix for num in row]\n",
    "print(flat_list)  \n"
   ]
  },
  {
   "cell_type": "markdown",
   "metadata": {},
   "source": [
    "3. Compound Data Types in Python\n",
    "Compound data types are data types that can hold multiple values of potentially different types."
   ]
  },
  {
   "cell_type": "code",
   "execution_count": 8,
   "metadata": {},
   "outputs": [],
   "source": [
    " #List\n",
    "# A list holding integers, strings, and another list\n",
    "compound_list = [1, \"hello\", [2, 3, 4]]\n",
    "\n",
    "\n"
   ]
  },
  {
   "cell_type": "code",
   "execution_count": 9,
   "metadata": {},
   "outputs": [],
   "source": [
    " #Dictionary\n",
    "# A dictionary holding key-value pairs\n",
    "compound_dict = {\"name\": \"Alice\", \"age\": 25, \"skills\": [\"Python\", \"Data Analysis\"]}\n"
   ]
  },
  {
   "cell_type": "code",
   "execution_count": 10,
   "metadata": {},
   "outputs": [],
   "source": [
    "#Tuple\n",
    "# A tuple containing integers and strings\n",
    "compound_tuple = (42, \"Answer\", True)\n"
   ]
  },
  {
   "cell_type": "markdown",
   "metadata": {},
   "source": [
    "4. Function to Return List of Bigrams\n",
    "A bigram is a sequence of two adjacent elements from a string. Here’s a function to extract bigrams from a string:"
   ]
  },
  {
   "cell_type": "code",
   "execution_count": 11,
   "metadata": {},
   "outputs": [
    {
     "name": "stdout",
     "output_type": "stream",
     "text": [
      "['he', 'el', 'll', 'lo']\n"
     ]
    }
   ],
   "source": [
    "def get_bigrams(input_string):\n",
    "    # List to hold bigrams\n",
    "    bigrams = []\n",
    "    # Loop through the string and create bigrams\n",
    "    for i in range(len(input_string) - 1):\n",
    "        bigram = input_string[i:i+2]\n",
    "        bigrams.append(bigram)\n",
    "    return bigrams\n",
    "\n",
    "# Test the function\n",
    "print(get_bigrams(\"hello\"))  \n"
   ]
  },
  {
   "cell_type": "markdown",
   "metadata": {},
   "source": [
    "5. Function to Find the Closest Key in a Dictionary\n",
    "This function finds the key whose associated list contains a value closest to the beginning."
   ]
  },
  {
   "cell_type": "code",
   "execution_count": 12,
   "metadata": {},
   "outputs": [
    {
     "name": "stdout",
     "output_type": "stream",
     "text": [
      "b\n"
     ]
    }
   ],
   "source": [
    "def closest_key(input_dict, value):\n",
    "    for key, value_list in input_dict.items():\n",
    "        if value in value_list:\n",
    "            return key\n",
    "    return None\n",
    "\n",
    "# Example usage\n",
    "example_dict = {\n",
    "    'a': ['apple', 'apricot', 'avocado'],\n",
    "    'b': ['banana', 'blueberry', 'blackberry'],\n",
    "    'c': ['cherry', 'cranberry']\n",
    "}\n",
    "print(closest_key(example_dict, 'blueberry'))  \n"
   ]
  }
 ],
 "metadata": {
  "kernelspec": {
   "display_name": "Python 3",
   "language": "python",
   "name": "python3"
  },
  "language_info": {
   "codemirror_mode": {
    "name": "ipython",
    "version": 3
   },
   "file_extension": ".py",
   "mimetype": "text/x-python",
   "name": "python",
   "nbconvert_exporter": "python",
   "pygments_lexer": "ipython3",
   "version": "3.12.2"
  }
 },
 "nbformat": 4,
 "nbformat_minor": 2
}
